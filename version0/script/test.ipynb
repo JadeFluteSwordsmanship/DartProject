{
 "cells": [
  {
   "cell_type": "code",
   "execution_count": 3,
   "id": "initial_id",
   "metadata": {
    "collapsed": true,
    "ExecuteTime": {
     "end_time": "2024-03-23T17:51:30.863684100Z",
     "start_time": "2024-03-23T17:51:30.855704500Z"
    }
   },
   "outputs": [
    {
     "data": {
      "text/plain": "array([2])"
     },
     "execution_count": 3,
     "metadata": {},
     "output_type": "execute_result"
    }
   ],
   "source": [
    "import numpy as np\n",
    "a = np.array([[1,2,3],[4,5,6]])\n",
    "a[0][1:1]"
   ]
  },
  {
   "cell_type": "code",
   "execution_count": 16,
   "outputs": [
    {
     "data": {
      "text/plain": "array([0.08196721, 0.08196721, 0.08196721, 0.08196721, 0.08196721,\n       0.08196721, 0.08196721, 0.08196721, 0.08196721, 0.08196721,\n       0.08196721, 0.08196721, 0.08196721, 0.08196721, 0.08196721,\n       0.08196721, 0.08196721, 0.08196721, 0.08196721, 0.08196721,\n       0.08196721, 0.08196721, 0.08196721, 0.08196721, 0.08196721,\n       0.08196721, 0.08196721, 0.08196721, 0.08196721, 0.08196721,\n       0.08196721, 0.08196721, 0.08196721, 0.08196721, 0.08196721,\n       0.08196721, 0.08196721, 0.08196721, 0.08196721, 0.08196721,\n       0.08196721, 0.08196721, 0.08196721, 0.08196721, 0.08196721,\n       0.08196721, 0.08196721, 0.08196721, 0.08196721, 0.08196721,\n       0.08196721, 0.08196721, 0.08196721, 0.08196721, 0.08196721,\n       0.08196721, 0.08196721, 0.08196721, 0.08196721, 0.08196721,\n       0.08196721, 0.08196721, 0.08196721, 0.08196721, 0.08196721,\n       0.08196721, 0.08196721, 0.08196721, 0.08196721, 0.08196721,\n       0.08196721, 0.08196721, 0.08196721, 0.08196721, 0.08196721,\n       0.08196721, 0.08196721, 0.08196721, 0.08196721, 0.08196721,\n       0.08196721, 0.08196721, 0.08196721, 0.08196721, 0.08196721,\n       0.08196721, 0.08196721, 0.08196721, 0.08196721, 0.08196721,\n       0.08196721, 0.08196721, 0.08196721, 0.08196721, 0.08196721,\n       0.08196721, 0.08196721, 0.08196721, 0.08196721, 0.08196721,\n       0.08196721, 0.08196721, 0.08196721, 0.08196721, 0.08196721,\n       0.08196721, 0.08196721, 0.08196721, 0.08196721, 0.08196721,\n       0.08196721, 0.08196721, 0.08196721, 0.08196721, 0.08196721,\n       0.08196721, 0.08196721, 0.08196721, 0.08196721, 0.08196721,\n       0.08196721, 0.08196721, 0.08196721, 0.08196721, 0.08196721,\n       0.08196721, 0.08196721, 0.08196721, 0.08196721, 0.08196721,\n       0.08196721, 0.08196721, 0.08196721, 0.08196721, 0.08196721,\n       0.08196721, 0.08196721, 0.08196721, 0.08196721, 0.08196721,\n       0.08196721, 0.08196721, 0.08196721, 0.08196721, 0.08196721,\n       0.08196721, 0.08196721, 0.08196721, 0.08196721, 0.08196721,\n       0.08196721, 0.08196721, 0.08196721, 0.08196721, 0.08196721,\n       0.08196721, 0.08196721, 0.08196721, 0.08196721, 0.08196721,\n       0.08196721, 0.08196721, 0.08196721, 0.08196721, 0.08196721,\n       0.08196721, 0.08196721, 0.08196721, 0.08196721, 0.08196721,\n       0.08196721, 0.08196721, 0.08196721, 0.08196721, 0.08196721,\n       0.08196721, 0.08196721, 0.08196721, 0.08196721, 0.08196721,\n       0.08196721, 0.08196721, 0.08196721, 0.08196721, 0.08196721,\n       0.08196721, 0.08196721, 0.08196721, 0.08196721, 0.08196721,\n       0.08196721, 0.08196721, 0.08196721, 0.08196721, 0.08196721,\n       0.08196721, 0.08196721, 0.08196721, 0.08196721, 0.08196721,\n       0.08196721, 0.08196721, 0.08196721, 0.08196721, 0.08196721,\n       0.08196721, 0.08196721, 0.08196721, 0.08196721, 0.08196721,\n       0.08196721, 0.08196721, 0.08196721, 0.08196721, 0.08196721,\n       0.08196721, 0.08196721, 0.08196721, 0.08196721, 0.08196721,\n       0.08196721, 0.08196721, 0.08196721, 0.08196721, 0.08196721,\n       0.08196721, 0.08196721, 0.08196721, 0.08196721, 0.08196721,\n       0.08196721, 0.08196721, 0.08196721, 0.08196721, 0.08196721,\n       0.08196721, 0.08196721, 0.08196721, 0.08196721, 0.08196721,\n       0.08196721, 0.08196721, 0.08196721, 0.08196721, 0.08196721,\n       0.08196721, 0.08196721, 0.08196721, 0.08196721, 0.08196721,\n       0.08196721, 0.08196721, 0.08196721, 0.08196721, 0.08196721,\n       0.08196721, 0.08196721, 0.08196721, 0.08196721, 0.08196721,\n       0.08196721, 0.08196721, 0.08196721, 0.08196721, 0.08196721,\n       0.08196721, 0.08196721, 0.08196721, 0.08196721, 0.08196721,\n       0.08196721, 0.08196721, 0.08196721, 0.08196721, 0.08196721,\n       0.08196721, 0.08196721, 0.08196721, 0.08196721, 0.08196721,\n       0.08196721, 0.08196721, 0.08196721, 0.08196721, 0.08196721,\n       0.08196721, 0.08196721, 0.08196721, 0.08196721, 0.08196721,\n       0.08196721, 0.08196721, 0.08196721, 0.08196721, 0.08196721,\n       0.08196721, 0.08196721, 0.08196721, 0.08196721, 0.08196721,\n       0.08196721, 0.08196721, 0.08196721, 0.08196721, 0.08196721,\n       0.08196721, 0.08196721, 0.08196721, 0.08196721, 0.08196721,\n       0.08196721, 0.08196721, 0.08196721, 0.08196721, 0.08196721,\n       0.08196721, 0.08196721, 0.08196721, 0.08196721, 0.08196721,\n       0.08196721, 0.08196721, 0.08196721, 0.08196721, 0.08196721,\n       0.08196721, 0.08196721, 0.08196721, 0.08196721, 0.08196721,\n       0.08196721, 0.08196721, 0.08196721, 0.08196721, 0.08196721,\n       0.08196721, 0.08196721, 0.08196721, 0.08196721, 0.08196721,\n       0.08196721, 0.08196721, 0.08196721, 0.08196721, 0.08196721,\n       0.08196721, 0.08196721, 0.08196721, 0.08196721, 0.08196721,\n       0.08196721, 0.08196721, 0.08196721, 0.08196721, 0.08196721,\n       0.08196721, 0.08196721, 0.08196721, 0.08196721, 0.08196721,\n       0.08196721, 0.08196721, 0.08196721, 0.08196721, 0.08196721,\n       0.08196721, 0.08196721, 0.08196721, 0.08196721, 0.08196721,\n       0.08196721, 0.08196721, 0.08196721, 0.08196721, 0.08196721,\n       0.08196721, 0.08196721, 0.08196721, 0.08196721, 0.08196721,\n       0.08196721, 0.08196721, 0.08196721, 0.08196721, 0.08196721,\n       0.08196721, 0.08196721, 0.08196721, 0.08196721, 0.08196721,\n       0.08196721, 0.08196721, 0.08196721, 0.08196721, 0.08196721,\n       0.08196721, 0.08196721, 0.08196721, 0.08196721, 0.08196721,\n       0.08196721, 0.08196721, 0.08196721, 0.08196721, 0.08196721,\n       0.08196721, 0.08196721, 0.08196721, 0.08196721, 0.08196721,\n       0.08196721, 0.08196721, 0.08196721, 0.08196721, 0.08196721,\n       0.08196721, 0.08196721, 0.08196721, 0.08196721, 0.08196721,\n       0.08196721, 0.08196721, 0.08196721, 0.08196721, 0.08196721,\n       0.08196721, 0.08196721, 0.08196721, 0.08196721, 0.08196721,\n       0.08196721, 0.08196721, 0.08196721, 0.08196721, 0.08196721,\n       0.08196721, 0.08196721, 0.08196721, 0.08196721, 0.08196721,\n       0.08196721, 0.08196721, 0.08196721, 0.08196721, 0.08196721,\n       0.08196721, 0.08196721, 0.08196721, 0.08196721, 0.08196721,\n       0.08196721, 0.08196721, 0.08196721, 0.08196721, 0.08196721,\n       0.08196721, 0.08196721, 0.08196721, 0.08196721, 0.08196721,\n       0.08196721, 0.08196721, 0.08196721, 0.08196721, 0.08196721,\n       0.08196721, 0.08196721, 0.08196721, 0.08196721, 0.08196721,\n       0.08196721, 0.08196721, 0.08196721, 0.08196721, 0.08196721,\n       0.08196721, 0.08196721, 0.08196721, 0.08196721, 0.08196721,\n       0.08196721, 0.08196721, 0.08196721, 0.08196721, 0.08196721,\n       0.08196721, 0.08196721, 0.08196721, 0.08196721, 0.08196721,\n       0.08196721, 0.08196721, 0.08196721, 0.08196721, 0.08196721,\n       0.08196721, 0.08196721, 0.08196721, 0.08196721, 0.08196721,\n       0.08196721, 0.08196721, 0.08196721, 0.08196721, 0.08196721,\n       0.08196721, 0.08196721, 0.08196721, 0.08196721, 0.08196721,\n       0.08196721, 0.08196721, 0.08196721, 0.08196721, 0.08196721,\n       0.08196721, 0.08196721, 0.08196721, 0.08196721, 0.08196721,\n       0.08196721, 0.08196721, 0.08196721, 0.08196721, 0.08196721,\n       0.08196721, 0.08196721, 0.08196721, 0.08196721, 0.08196721,\n       0.08196721, 0.08196721, 0.08196721, 0.08196721, 0.08196721,\n       0.08196721, 0.08196721, 0.08196721, 0.08196721, 0.08196721,\n       0.08196721, 0.08196721, 0.08196721, 0.08196721, 0.08196721,\n       0.08196721, 0.08196721, 0.08196721, 0.08196721, 0.08196721,\n       0.08196721, 0.08196721, 0.08196721, 0.08196721, 0.08196721,\n       0.08196721, 0.08196721, 0.08196721, 0.08196721, 0.08196721,\n       0.08196721, 0.08196721, 0.08196721, 0.08196721, 0.08196721,\n       0.08196721, 0.08196721, 0.08196721, 0.08196721, 0.08196721,\n       0.08196721, 0.08196721, 0.08196721, 0.08196721, 0.08196721,\n       0.08196721, 0.08196721, 0.08196721, 0.08196721, 0.08196721,\n       0.08196721, 0.08196721, 0.08196721, 0.08196721, 0.08196721,\n       0.08196721, 0.08196721, 0.08196721, 0.08196721, 0.08196721,\n       0.08196721, 0.08196721, 0.08196721, 0.08196721, 0.08196721,\n       0.08196721, 0.08196721, 0.08196721, 0.08196721, 0.08196721,\n       0.08196721, 0.08196721, 0.08196721, 0.08196721, 0.08196721,\n       0.08196721, 0.08196721, 0.08196721, 0.08196721, 0.08196721,\n       0.08196721, 0.08196721, 0.08196721, 0.08196721, 0.08196721,\n       0.08196721, 0.08196721, 0.08196721, 0.08196721, 0.08196721,\n       0.08196721, 0.08196721, 0.08196721, 0.08196721, 0.08196721,\n       0.08196721, 0.08196721, 0.08196721, 0.08196721, 0.08196721,\n       0.08196721, 0.08196721, 0.08196721, 0.08196721, 0.08196721,\n       0.08196721, 0.08196721, 0.08196721, 0.08196721, 0.08196721,\n       0.08196721, 0.08196721, 0.08196721, 0.08196721, 0.08196721,\n       0.08196721, 0.08196721, 0.08196721, 0.08196721, 0.08196721,\n       0.08196721, 0.08196721, 0.08196721, 0.08196721, 0.08196721,\n       0.08196721, 0.08196721, 0.08196721, 0.08196721, 0.08196721,\n       0.08196721, 0.08196721, 0.08196721, 0.08196721, 0.08196721,\n       0.08196721, 0.08196721, 0.08196721, 0.08196721, 0.08196721,\n       0.08196721, 0.08196721, 0.08196721, 0.08196721, 0.08196721,\n       0.08196721, 0.08196721, 0.08196721, 0.08196721, 0.08196721,\n       0.08196721, 0.08196721, 0.08196721, 0.08196721, 0.08196721,\n       0.08196721, 0.08196721, 0.08196721, 0.08196721, 0.08196721,\n       0.08196721, 0.08196721, 0.08196721, 0.08196721, 0.08196721,\n       0.08196721, 0.08196721, 0.08196721, 0.08196721, 0.08196721,\n       0.08196721, 0.08196721, 0.08196721, 0.08196721, 0.08196721,\n       0.08196721, 0.08196721, 0.08196721, 0.08196721, 0.08196721,\n       0.08196721, 0.08196721, 0.08196721, 0.08196721, 0.08196721,\n       0.08196721, 0.08196721, 0.08196721, 0.08196721, 0.08196721,\n       0.08196721, 0.08196721, 0.08196721, 0.08196721, 0.08196721,\n       0.08196721, 0.08196721, 0.08196721, 0.08196721, 0.08196721,\n       0.08196721, 0.08196721, 0.08196721, 0.08196721, 0.08196721,\n       0.08196721, 0.08196721, 0.08196721, 0.08196721, 0.08196721,\n       0.08196721, 0.08196721, 0.08196721, 0.08196721, 0.08196721,\n       0.08196721, 0.08196721, 0.08196721, 0.08196721, 0.08196721,\n       0.08196721, 0.08196721, 0.08196721, 0.08196721, 0.08196721,\n       0.08196721, 0.08196721, 0.08196721, 0.08196721, 0.08196721,\n       0.08196721, 0.08196721, 0.08196721, 0.08196721, 0.08196721,\n       0.08196721, 0.08196721, 0.08196721, 0.08196721, 0.08196721,\n       0.08196721, 0.08196721, 0.08196721, 0.08196721, 0.08196721,\n       0.08196721, 0.08196721, 0.08196721, 0.08196721, 0.08196721,\n       0.08196721, 0.08196721, 0.08196721, 0.08196721, 0.08196721,\n       0.08196721, 0.08196721, 0.08196721, 0.08196721, 0.08196721,\n       0.08196721, 0.08196721, 0.08196721, 0.08196721, 0.08196721,\n       0.08196721, 0.08196721, 0.08196721, 0.08196721, 0.08196721,\n       0.08196721, 0.08196721, 0.08196721, 0.08196721, 0.08196721,\n       0.08196721, 0.08196721, 0.08196721, 0.08196721, 0.08196721,\n       0.08196721, 0.08196721, 0.08196721, 0.08196721, 0.08196721,\n       0.08196721, 0.08196721, 0.08196721, 0.08196721, 0.08196721,\n       0.08196721, 0.08196721, 0.08196721, 0.08196721, 0.08196721,\n       0.08196721, 0.08196721, 0.08196721, 0.08196721, 0.08196721,\n       0.08196721, 0.08196721, 0.08196721, 0.08196721, 0.08196721,\n       0.08196721, 0.08196721, 0.08196721, 0.08196721, 0.08196721,\n       0.08196721, 0.08196721, 0.08196721, 0.08196721, 0.08196721,\n       0.08196721, 0.08196721, 0.08196721, 0.08196721, 0.08196721,\n       0.08196721, 0.08196721, 0.08196721, 0.08196721, 0.08196721,\n       0.08196721, 0.08196721, 0.08196721, 0.08196721, 0.08196721,\n       0.08196721, 0.08196721, 0.08196721, 0.08196721, 0.08196721,\n       0.08196721, 0.08196721, 0.08196721, 0.08196721, 0.08196721,\n       0.08196721, 0.08196721, 0.08196721, 0.08196721, 0.08196721,\n       0.08196721, 0.08196721, 0.08196721, 0.08196721, 0.08196721,\n       0.08196721, 0.08196721, 0.08196721, 0.08196721, 0.08196721,\n       0.08196721, 0.08196721, 0.08196721, 0.08196721, 0.08196721,\n       0.08196721, 0.08196721, 0.08196721, 0.08196721, 0.08196721,\n       0.08196721, 0.08196721, 0.08196721, 0.08196721, 0.08196721,\n       0.08196721, 0.08196721, 0.08196721, 0.08196721, 0.08196721,\n       0.08196721, 0.08196721, 0.08196721, 0.08196721, 0.08196721,\n       0.08196721, 0.08196721, 0.08196721, 0.08196721, 0.08196721,\n       0.08196721, 0.08196721, 0.08196721, 0.08196721, 0.08196721,\n       0.08196721, 0.08196721, 0.08196721, 0.08196721, 0.08196721,\n       0.08196721, 0.08196721, 0.08196721, 0.08196721, 0.08196721,\n       0.08196721, 0.08196721, 0.08196721, 0.08196721, 0.08196721,\n       0.08196721, 0.08196721, 0.08196721, 0.08196721, 0.08196721,\n       0.08196721, 0.08196721, 0.08196721, 0.08196721, 0.08196721,\n       0.08196721, 0.08196721, 0.08196721, 0.08196721, 0.08196721,\n       0.08196721, 0.08196721, 0.08196721, 0.08196721, 0.08196721,\n       0.08196721, 0.08196721, 0.08196721, 0.08196721, 0.08196721,\n       0.08196721, 0.08196721, 0.08196721, 0.08196721, 0.08196721,\n       0.08196721, 0.08196721, 0.08196721, 0.08196721, 0.08196721,\n       0.08196721, 0.08196721, 0.08196721, 0.08196721, 0.08196721,\n       0.08196721, 0.08196721, 0.08196721, 0.08196721, 0.08196721,\n       0.08196721, 0.08196721, 0.08196721, 0.08196721])"
     },
     "execution_count": 16,
     "metadata": {},
     "output_type": "execute_result"
    }
   ],
   "source": [
    "score_state = 6\n",
    "scoremax = min(score_state - 2, 60 * 1)\n",
    "values = np.ones(min(score_state - 2, 60 * 1) + 1)\n",
    "prob_grid_normalscore = np.full((984,61),1/61)\n",
    "\n",
    "prob_grid_normalscore[:,1:scoremax+1].dot(values[1:])+prob_grid_normalscore[:,0].dot(values[0])"
   ],
   "metadata": {
    "collapsed": false,
    "ExecuteTime": {
     "end_time": "2024-03-23T18:06:17.240886300Z",
     "start_time": "2024-03-23T18:06:17.223932100Z"
    }
   },
   "id": "d16e7aa7b0ee4884"
  },
  {
   "cell_type": "code",
   "execution_count": 17,
   "outputs": [
    {
     "data": {
      "text/plain": "0.08196721311475409"
     },
     "execution_count": 17,
     "metadata": {},
     "output_type": "execute_result"
    }
   ],
   "source": [
    "5/61"
   ],
   "metadata": {
    "collapsed": false,
    "ExecuteTime": {
     "end_time": "2024-03-23T18:06:22.363179800Z",
     "start_time": "2024-03-23T18:06:22.348220300Z"
    }
   },
   "id": "78c542ed70d1c164"
  },
  {
   "cell_type": "code",
   "execution_count": 21,
   "outputs": [
    {
     "ename": "ValueError",
     "evalue": "shapes (984,) and (1,) not aligned: 984 (dim 0) != 1 (dim 0)",
     "output_type": "error",
     "traceback": [
      "\u001B[1;31m---------------------------------------------------------------------------\u001B[0m",
      "\u001B[1;31mValueError\u001B[0m                                Traceback (most recent call last)",
      "Cell \u001B[1;32mIn[21], line 1\u001B[0m\n\u001B[1;32m----> 1\u001B[0m \u001B[43mnp\u001B[49m\u001B[38;5;241;43m.\u001B[39;49m\u001B[43mfull\u001B[49m\u001B[43m(\u001B[49m\u001B[43m(\u001B[49m\u001B[38;5;241;43m984\u001B[39;49m\u001B[43m,\u001B[49m\u001B[43m)\u001B[49m\u001B[43m,\u001B[49m\u001B[38;5;241;43m2\u001B[39;49m\u001B[43m)\u001B[49m\u001B[38;5;241;43m.\u001B[39;49m\u001B[43mdot\u001B[49m\u001B[43m(\u001B[49m\u001B[43mnp\u001B[49m\u001B[38;5;241;43m.\u001B[39;49m\u001B[43mones\u001B[49m\u001B[43m(\u001B[49m\u001B[38;5;241;43m1\u001B[39;49m\u001B[43m)\u001B[49m\u001B[43m)\u001B[49m\n",
      "\u001B[1;31mValueError\u001B[0m: shapes (984,) and (1,) not aligned: 984 (dim 0) != 1 (dim 0)"
     ]
    }
   ],
   "source": [
    "np.full((984,),2).dot(np.ones(1))"
   ],
   "metadata": {
    "collapsed": false,
    "ExecuteTime": {
     "end_time": "2024-03-23T18:55:28.102194600Z",
     "start_time": "2024-03-23T18:55:28.063298300Z"
    }
   },
   "id": "9aac916969fed16b"
  },
  {
   "cell_type": "code",
   "execution_count": 23,
   "outputs": [
    {
     "data": {
      "text/plain": "()"
     },
     "execution_count": 23,
     "metadata": {},
     "output_type": "execute_result"
    }
   ],
   "source": [
    "np.ones(1)[0].shape"
   ],
   "metadata": {
    "collapsed": false,
    "ExecuteTime": {
     "end_time": "2024-03-23T18:55:42.657247100Z",
     "start_time": "2024-03-23T18:55:42.648280500Z"
    }
   },
   "id": "68b63b3622c4c07d"
  },
  {
   "cell_type": "code",
   "execution_count": 45,
   "outputs": [
    {
     "ename": "TypeError",
     "evalue": "'tuple' object cannot be interpreted as an integer",
     "output_type": "error",
     "traceback": [
      "\u001B[1;31m---------------------------------------------------------------------------\u001B[0m",
      "\u001B[1;31mTypeError\u001B[0m                                 Traceback (most recent call last)",
      "Cell \u001B[1;32mIn[45], line 10\u001B[0m\n\u001B[0;32m      8\u001B[0m \u001B[38;5;66;03m# 使用numpy的meshgrid函数来获取所有可能的索引组合\u001B[39;00m\n\u001B[0;32m      9\u001B[0m rows \u001B[38;5;241m=\u001B[39m np\u001B[38;5;241m.\u001B[39mmeshgrid(\u001B[38;5;28mrange\u001B[39m(values\u001B[38;5;241m.\u001B[39mshape[\u001B[38;5;241m0\u001B[39m]),indexing\u001B[38;5;241m=\u001B[39m\u001B[38;5;124m'\u001B[39m\u001B[38;5;124mij\u001B[39m\u001B[38;5;124m'\u001B[39m)\n\u001B[1;32m---> 10\u001B[0m np\u001B[38;5;241m.\u001B[39marray(\u001B[38;5;28;43mrange\u001B[39;49m\u001B[43m(\u001B[49m\u001B[43mvalues\u001B[49m\u001B[38;5;241;43m.\u001B[39;49m\u001B[43mshape\u001B[49m\u001B[43m)\u001B[49m)\n",
      "\u001B[1;31mTypeError\u001B[0m: 'tuple' object cannot be interpreted as an integer"
     ]
    }
   ],
   "source": [
    "import numpy as np\n",
    "\n",
    "# 创建一个6x7的二维数组\n",
    "score_state = 6\n",
    "scoremax = min(score_state - 2, 60 * 1)\n",
    "values = np.ones(min(score_state - 2, 60 * 1) + 1)\n",
    "\n",
    "# 使用numpy的meshgrid函数来获取所有可能的索引组合\n",
    "rows = np.meshgrid(range(values.shape[0]),indexing='ij')\n",
    "np.array(range(values.shape))"
   ],
   "metadata": {
    "collapsed": false,
    "ExecuteTime": {
     "end_time": "2024-03-23T19:25:08.853001Z",
     "start_time": "2024-03-23T19:25:08.828068500Z"
    }
   },
   "id": "ac76c116f81deac5"
  },
  {
   "cell_type": "code",
   "execution_count": 28,
   "outputs": [],
   "source": [
    "score_state=7\n",
    "cols = score_state-cols-2\n"
   ],
   "metadata": {
    "collapsed": false,
    "ExecuteTime": {
     "end_time": "2024-03-23T19:15:51.722245300Z",
     "start_time": "2024-03-23T19:15:51.715263100Z"
    }
   },
   "id": "4744a4c32510cea7"
  },
  {
   "cell_type": "code",
   "execution_count": 29,
   "outputs": [
    {
     "data": {
      "text/plain": "array([[ 5,  4,  3,  2,  1,  0, -1],\n       [ 5,  4,  3,  2,  1,  0, -1],\n       [ 5,  4,  3,  2,  1,  0, -1],\n       [ 5,  4,  3,  2,  1,  0, -1],\n       [ 5,  4,  3,  2,  1,  0, -1],\n       [ 5,  4,  3,  2,  1,  0, -1]])"
     },
     "execution_count": 29,
     "metadata": {},
     "output_type": "execute_result"
    }
   ],
   "source": [
    "cols"
   ],
   "metadata": {
    "collapsed": false,
    "ExecuteTime": {
     "end_time": "2024-03-23T19:15:53.972225Z",
     "start_time": "2024-03-23T19:15:53.955270100Z"
    }
   },
   "id": "e599f3ca8e06786c"
  },
  {
   "cell_type": "code",
   "execution_count": 46,
   "outputs": [
    {
     "name": "stdout",
     "output_type": "stream",
     "text": [
      "0\n",
      "1\n",
      "2\n",
      "3\n"
     ]
    }
   ],
   "source": [
    "for u in range(0, min(score_state - 2, 60)):\n",
    "    print(u)"
   ],
   "metadata": {
    "collapsed": false,
    "ExecuteTime": {
     "end_time": "2024-03-23T19:48:23.903988400Z",
     "start_time": "2024-03-23T19:48:23.890026400Z"
    }
   },
   "id": "f8181ce2ea8be511"
  },
  {
   "cell_type": "code",
   "execution_count": 50,
   "outputs": [
    {
     "name": "stdout",
     "output_type": "stream",
     "text": [
      "(2,)\n"
     ]
    },
    {
     "data": {
      "text/plain": "array([1., 1.])"
     },
     "execution_count": 50,
     "metadata": {},
     "output_type": "execute_result"
    }
   ],
   "source": [
    "V=np.ones((502,3,121))\n",
    "print(V[3:1:-1,2,0].shape)\n",
    "V[3:1:-1,2,0]\n"
   ],
   "metadata": {
    "collapsed": false,
    "ExecuteTime": {
     "end_time": "2024-03-23T20:09:48.848369Z",
     "start_time": "2024-03-23T20:09:48.840390Z"
    }
   },
   "id": "12db961260c5d147"
  },
  {
   "cell_type": "code",
   "execution_count": 61,
   "outputs": [],
   "source": [
    "if np.all(np.abs(np.array([1,2,3]) - np.array([1.1,2.1,2.8])) < 0.15):\n",
    "    print('yes')"
   ],
   "metadata": {
    "collapsed": false,
    "ExecuteTime": {
     "end_time": "2024-03-23T20:36:01.889306100Z",
     "start_time": "2024-03-23T20:36:01.865370900Z"
    }
   },
   "id": "86f23d3cb839a5cb"
  },
  {
   "cell_type": "code",
   "execution_count": 68,
   "outputs": [
    {
     "name": "stdout",
     "output_type": "stream",
     "text": [
      "{1: 3, 2: 2}\n",
      "{1: 3, 2: 9}\n"
     ]
    }
   ],
   "source": [
    "a={1:1,2:2}\n",
    "b={1:1,2:2}\n",
    "b[1]=3\n",
    "a=dict(b)\n",
    "b[2]=9\n",
    "print(a)\n",
    "print(b)"
   ],
   "metadata": {
    "collapsed": false,
    "ExecuteTime": {
     "end_time": "2024-03-23T20:49:53.833501100Z",
     "start_time": "2024-03-23T20:49:53.808570200Z"
    }
   },
   "id": "af625046907e815b"
  },
  {
   "cell_type": "code",
   "execution_count": 71,
   "outputs": [],
   "source": [
    "s=9\n",
    "values=np.ones(min(s - 2, 60 * 1) + 1, dtype=np.float64)\n",
    "V = np.full((502, 3, 121), fill_value=np.nan)\n",
    "V[s, 1, 0:len(values)] = values"
   ],
   "metadata": {
    "collapsed": false,
    "ExecuteTime": {
     "end_time": "2024-03-23T21:05:27.778335100Z",
     "start_time": "2024-03-23T21:05:27.761381300Z"
    }
   },
   "id": "54f5ab677946573f"
  },
  {
   "cell_type": "code",
   "execution_count": 73,
   "outputs": [
    {
     "data": {
      "text/plain": "array([ 1.,  1.,  1.,  1.,  1.,  1.,  1.,  1., nan, nan, nan, nan, nan,\n       nan, nan, nan, nan, nan, nan, nan, nan, nan, nan, nan, nan, nan,\n       nan, nan, nan, nan, nan, nan, nan, nan, nan, nan, nan, nan, nan,\n       nan, nan, nan, nan, nan, nan, nan, nan, nan, nan, nan, nan, nan,\n       nan, nan, nan, nan, nan, nan, nan, nan, nan, nan, nan, nan, nan,\n       nan, nan, nan, nan, nan, nan, nan, nan, nan, nan, nan, nan, nan,\n       nan, nan, nan, nan, nan, nan, nan, nan, nan, nan, nan, nan, nan,\n       nan, nan, nan, nan, nan, nan, nan, nan, nan, nan, nan, nan, nan,\n       nan, nan, nan, nan, nan, nan, nan, nan, nan, nan, nan, nan, nan,\n       nan, nan, nan, nan])"
     },
     "execution_count": 73,
     "metadata": {},
     "output_type": "execute_result"
    }
   ],
   "source": [
    "V[s,1]"
   ],
   "metadata": {
    "collapsed": false,
    "ExecuteTime": {
     "end_time": "2024-03-23T21:05:37.474826300Z",
     "start_time": "2024-03-23T21:05:37.450891300Z"
    }
   },
   "id": "df22ccefe21b72b3"
  },
  {
   "cell_type": "code",
   "execution_count": 1,
   "outputs": [
    {
     "name": "stdout",
     "output_type": "stream",
     "text": [
      "load_pickle from ../../data_parameter/player_gaussin_fit/grid_v2/player7_gaussin_prob_grid_v2.pkl\n"
     ]
    }
   ],
   "source": [
    "import numpy as np\n",
    "import function_get_aiming_grid\n",
    "import function_board as fb\n",
    "playerID = 7\n",
    "name_pa = 'player{}'.format(playerID)\n",
    "[aiming_grid, prob_grid_normalscore, prob_grid_singlescore, prob_grid_doublescore, prob_grid_triplescore,\n",
    " prob_grid_bullscore] = function_get_aiming_grid.load_aiming_grid(name_pa)\n",
    "num_aiming_location = aiming_grid.shape[0]\n",
    "prob_normalscore_0tosmax_dic = {}\n",
    "prob_normalscore_0tosmaxsum_dic = {}\n",
    "for score_max in range(0, 61):\n",
    "    score_max_plus1 = score_max + 1\n",
    "    prob_normalscore_0tosmax_dic[score_max] = np.array(prob_grid_normalscore[:, 0:score_max_plus1])\n",
    "    prob_normalscore_0tosmaxsum_dic[score_max] = prob_normalscore_0tosmax_dic[score_max].sum(axis=1)\n",
    "\n",
    "prob_doublescore_dic = {}\n",
    "for doublescore_index in range(20):\n",
    "    doublescore = 2 * (doublescore_index + 1)\n",
    "    prob_doublescore_dic[doublescore] = np.array(prob_grid_doublescore[:, doublescore_index])\n",
    "prob_doublescore_dic[fb.score_DB] = np.array(prob_grid_bullscore[:, 1])\n",
    "\n",
    "# Initialize the value function for all states (s, i, u)\n",
    "V = np.full((502, 3, 121), fill_value=np.nan)\n",
    "optimal_action_index = np.full((502, 3, 121), fill_value=-1,dtype=np.int16)\n",
    "V[0, :, 0] = 0  # If the score is 0, the game is finished\n",
    "V[1, :, 0] = np.inf\n",
    "optimal_action_index[0:2, :, 0] = -999\n",
    "    "
   ],
   "metadata": {
    "collapsed": false,
    "ExecuteTime": {
     "end_time": "2024-03-24T18:59:23.759732400Z",
     "start_time": "2024-03-24T18:59:23.653017200Z"
    }
   },
   "id": "50bb37a8cdd1d44d"
  },
  {
   "cell_type": "code",
   "execution_count": 2,
   "outputs": [
    {
     "name": "stdout",
     "output_type": "stream",
     "text": [
      "score_state = 9 finished."
     ]
    }
   ],
   "source": [
    "import copy\n",
    "num_aiming_location = aiming_grid.shape[0]\n",
    "prob_normalscore_0tosmax_dic = {}\n",
    "prob_normalscore_0tosmaxsum_dic = {}\n",
    "for score_max in range(0, 61):\n",
    "    score_max_plus1 = score_max + 1\n",
    "    prob_normalscore_0tosmax_dic[score_max] = np.array(prob_grid_normalscore[:, 0:score_max_plus1])\n",
    "    prob_normalscore_0tosmaxsum_dic[score_max] = prob_normalscore_0tosmax_dic[score_max].sum(axis=1)\n",
    "\n",
    "prob_doublescore_dic = {}\n",
    "for doublescore_index in range(20):\n",
    "    doublescore = 2 * (doublescore_index + 1)\n",
    "    prob_doublescore_dic[doublescore] = np.array(prob_grid_doublescore[:, doublescore_index])\n",
    "prob_doublescore_dic[fb.score_DB] = np.array(prob_grid_bullscore[:, 1])\n",
    "\n",
    "# Initialize the value function for all states (s, i, u)\n",
    "V = np.full((502, 3, 121), fill_value=np.nan)\n",
    "optimal_action_index = np.full((502, 3, 121), fill_value=-1,dtype=np.int16)\n",
    "V[0, :, 0] = 0  # If the score is 0, the game is finished\n",
    "V[1, :, 0] = np.inf\n",
    "optimal_action_index[0:2, :, 0] = -999\n",
    "\n",
    "iter_limit = 1000\n",
    "iter_error = 0.0001\n",
    "for s in range(2, 10):\n",
    "    values_old = {3: np.ones(min(s - 2, 60 * 0) + 1, dtype=np.float64),\n",
    "                  2: np.ones(min(s - 2, 60 * 1) + 1, dtype=np.float64),\n",
    "                  1: np.ones(min(s - 2, 60 * 2) + 1, dtype=np.float64)}\n",
    "    values = {3: np.ones(min(s - 2, 60 * 0) + 1, dtype=np.float64),\n",
    "              2: np.ones(min(s - 2, 60 * 1) + 1, dtype=np.float64),\n",
    "              1: np.ones(min(s - 2, 60 * 2) + 1, dtype=np.float64)}\n",
    "\n",
    "    for iter_index in range(iter_limit):\n",
    "        for u in [0]:\n",
    "            score_max = min(s - 2, 60)\n",
    "            prob_bust = 1 - prob_normalscore_0tosmaxsum_dic.get(score_max) - prob_doublescore_dic.get(s - u,\n",
    "                                                                                                      np.zeros(\n",
    "                                                                                                          num_aiming_location, ))  # (984,)\n",
    "            turn_to_thrownew = (prob_normalscore_0tosmax_dic.get(score_max).dot(values[2][u:u + score_max + 1])\n",
    "                                + prob_doublescore_dic.get(s, np.zeros(num_aiming_location, )) * 1\n",
    "                                + prob_bust.dot(1 + values[3][0]))\n",
    "            values[3][u] = np.min(turn_to_thrownew)\n",
    "            optimal_action_index[s, 2, u] = np.argmin(turn_to_thrownew)\n",
    "        for u in range(0, min(s - 2, 60) + 1):\n",
    "            score_max = min(s - u - 2, 60)\n",
    "            prob_bust = 1 - prob_normalscore_0tosmaxsum_dic.get(score_max) - prob_doublescore_dic.get(s - u,\n",
    "                                                                                                      np.zeros(\n",
    "                                                                                                          num_aiming_location, ))  # (984,)\n",
    "            turn_to_thrownew = (\n",
    "                    prob_normalscore_0tosmax_dic.get(score_max).dot(values[1][u:u + score_max + 1])\n",
    "                    + prob_doublescore_dic.get(s - u, np.zeros(num_aiming_location, )) * 1\n",
    "                    + prob_bust.dot(1 + values[3][0])\n",
    "            )\n",
    "            values[2][u] = np.min(turn_to_thrownew)\n",
    "            optimal_action_index[s, 1, u] = np.argmin(turn_to_thrownew)\n",
    "        for u in range(1, min(s - 2, 120) + 1):\n",
    "            score_max = min(s - u - 2, 60)\n",
    "            prob_bust = 1 - prob_normalscore_0tosmaxsum_dic.get(score_max) - prob_doublescore_dic.get(s - u,\n",
    "                                                                                                      np.zeros(\n",
    "                                                                                                          num_aiming_location, ))  # (984,)\n",
    "            turn_to_thrownew = (\n",
    "                    prob_normalscore_0tosmax_dic.get(score_max).dot(1 + V[s - u:s - u - score_max - 1:-1, 2, 0])\n",
    "                    + prob_doublescore_dic.get(s - u, np.zeros(num_aiming_location, )) * 1\n",
    "                    + prob_bust.dot(1 + values[3][0])\n",
    "            )\n",
    "            values[1][u] = np.min(turn_to_thrownew)\n",
    "            optimal_action_index[s, 0, u] = np.argmin(turn_to_thrownew)\n",
    "\n",
    "        for u in [0]:\n",
    "            score_max = min(s - u - 2, 60)\n",
    "            prob_bust = 1 - prob_normalscore_0tosmaxsum_dic.get(score_max) - prob_doublescore_dic.get(s - u,\n",
    "                                                                                                      np.zeros(\n",
    "                                                                                                          num_aiming_location, ))  # (984,)\n",
    "            turn_to_thrownew = (\n",
    "                prob_grid_normalscore[:, 0].dot(1 + values[3][0])\n",
    "                + np.array(prob_grid_normalscore[:, 1:score_max + 1]).dot(\n",
    "                    1 + V[s - u - 1:s - u - score_max - 1:-1, 2, 0])\n",
    "                + prob_doublescore_dic.get(s - u, np.zeros(num_aiming_location, )) * 1\n",
    "                + prob_bust.dot(1 + values[3][0])\n",
    "            )\n",
    "            values[1][u] = np.min(turn_to_thrownew)\n",
    "            optimal_action_index[s, 0, u] = np.argmin(turn_to_thrownew)\n",
    "\n",
    "        jump_out_of_iter = True\n",
    "        for remaining_throws in [1, 2, 3]:\n",
    "            if not np.all(np.abs(values_old[remaining_throws] - values[remaining_throws]) < iter_error):\n",
    "                jump_out_of_iter = False\n",
    "                break\n",
    "        if not jump_out_of_iter:\n",
    "            values_old = copy.deepcopy(values)\n",
    "        else:\n",
    "            break\n",
    "\n",
    "    V[s, 2, 0] = values[3][0]\n",
    "    V[s, 1, :len(values[2])] = values[2]\n",
    "    V[s, 0, :len(values[1])] = values[1]\n",
    "    print(f\"\\rscore_state = {s} finished.\",end=\"\")"
   ],
   "metadata": {
    "collapsed": false,
    "ExecuteTime": {
     "end_time": "2024-03-24T18:59:35.653303600Z",
     "start_time": "2024-03-24T18:59:35.595457400Z"
    }
   },
   "id": "9f7f87af7e0bcd23"
  },
  {
   "cell_type": "code",
   "execution_count": null,
   "outputs": [],
   "source": [
    "import copy\n",
    "num_aiming_location = aiming_grid.shape[0]\n",
    "prob_normalscore_0tosmax_dic = {}\n",
    "prob_normalscore_0tosmaxsum_dic = {}\n",
    "for score_max in range(0, 61):\n",
    "    score_max_plus1 = score_max + 1\n",
    "    prob_normalscore_0tosmax_dic[score_max] = np.array(prob_grid_normalscore[:, 0:score_max_plus1])\n",
    "    prob_normalscore_0tosmaxsum_dic[score_max] = prob_normalscore_0tosmax_dic[score_max].sum(axis=1)\n",
    "\n",
    "prob_doublescore_dic = {}\n",
    "for doublescore_index in range(20):\n",
    "    doublescore = 2 * (doublescore_index + 1)\n",
    "    prob_doublescore_dic[doublescore] = np.array(prob_grid_doublescore[:, doublescore_index])\n",
    "prob_doublescore_dic[fb.score_DB] = np.array(prob_grid_bullscore[:, 1])\n",
    "\n",
    "# Initialize the value function for all states (s, i, u)\n",
    "V = np.full((502, 3, 121), fill_value=np.nan)\n",
    "optimal_action_index = np.full((502, 3, 121), fill_value=-1,dtype=np.int16)\n",
    "V[0, :, 0] = 0  # If the score is 0, the game is finished\n",
    "V[1, :, 0] = np.inf\n",
    "optimal_action_index[0:2, :, 0] = -999\n",
    "\n",
    "iter_limit = 1000\n",
    "iter_error = 0.0001\n",
    "for s in range(2, 10):\n",
    "    values_old = {3: np.ones(min(s - 2, 60 * 0) + 1, dtype=np.float64),\n",
    "                  2: np.ones(min(s - 2, 60 * 1) + 1, dtype=np.float64),\n",
    "                  1: np.ones(min(s - 2, 60 * 2) + 1, dtype=np.float64)}\n",
    "    values = {3: np.ones(min(s - 2, 60 * 0) + 1, dtype=np.float64),\n",
    "              2: np.ones(min(s - 2, 60 * 1) + 1, dtype=np.float64),\n",
    "              1: np.ones(min(s - 2, 60 * 2) + 1, dtype=np.float64)}\n",
    "\n",
    "    for iter_index in range(iter_limit):\n",
    "        for u in [0]:\n",
    "            score_max = min(s - 2, 60)\n",
    "            prob_bust = 1 - prob_normalscore_0tosmaxsum_dic.get(score_max) - prob_doublescore_dic.get(s - u,\n",
    "                                                                                                      np.zeros(\n",
    "                                                                                                          num_aiming_location, ))  # (984,)\n",
    "            turn_to_thrownew = (prob_normalscore_0tosmax_dic.get(score_max).dot(values[2][u:u + score_max + 1])\n",
    "                                + prob_doublescore_dic.get(s, np.zeros(num_aiming_location, )) * 1\n",
    "                                + prob_bust.dot(1 + values[3][0]))\n",
    "            values[3][u] = np.min(turn_to_thrownew)\n",
    "            optimal_action_index[s, 2, u] = np.argmin(turn_to_thrownew)\n",
    "            \n",
    "        u_range = np.arange(0, min(s - 2, 60) + 1)\n",
    "        score_max_vector = np.minimum(s - u_range - 2, 60)\n",
    "        prob_bust_matrix = 1 - prob_normalscore_0tosmaxsum_dic[score_max_vector[:, None]] - prob_doublescore_dic.get(s - u_range[:, None], np.zeros((len(u_range), num_aiming_location)))\n",
    "        turn_to_thrownew_matrix = (\n",
    "    np.dot(prob_normalscore_0tosmax_dic.get(score_max), values[1][None, :]) + \n",
    "    prob_doublescore_dic.get(s - u_range[:, None], np.zeros((len(u_range), num_aiming_location))) * 1 + \n",
    "    prob_bust_matrix.dot(1 + values[3][0])\n",
    ")\n",
    "        for u in range(0, min(s - 2, 60) + 1):\n",
    "            score_max = min(s - u - 2, 60)\n",
    "            prob_bust = 1 - prob_normalscore_0tosmaxsum_dic.get(score_max) - prob_doublescore_dic.get(s - u,\n",
    "                                                                                                      np.zeros(\n",
    "                                                                                                          num_aiming_location, ))  # (984,)\n",
    "            turn_to_thrownew = (\n",
    "                    prob_normalscore_0tosmax_dic.get(score_max).dot(values[1][u:u + score_max + 1])\n",
    "                    + prob_doublescore_dic.get(s - u, np.zeros(num_aiming_location, )) * 1\n",
    "                    + prob_bust.dot(1 + values[3][0])\n",
    "            )\n",
    "            values[2][u] = np.min(turn_to_thrownew)\n",
    "            optimal_action_index[s, 1, u] = np.argmin(turn_to_thrownew)\n",
    "            \n",
    "            \n",
    "            \n",
    "        for u in range(1, min(s - 2, 120) + 1):\n",
    "            score_max = min(s - u - 2, 60)\n",
    "            prob_bust = 1 - prob_normalscore_0tosmaxsum_dic.get(score_max) - prob_doublescore_dic.get(s - u,\n",
    "                                                                                                      np.zeros(\n",
    "                                                                                                          num_aiming_location, ))  # (984,)\n",
    "            turn_to_thrownew = (\n",
    "                    prob_normalscore_0tosmax_dic.get(score_max).dot(1 + V[s - u:s - u - score_max - 1:-1, 2, 0])\n",
    "                    + prob_doublescore_dic.get(s - u, np.zeros(num_aiming_location, )) * 1\n",
    "                    + prob_bust.dot(1 + values[3][0])\n",
    "            )\n",
    "            values[1][u] = np.min(turn_to_thrownew)\n",
    "            optimal_action_index[s, 0, u] = np.argmin(turn_to_thrownew)\n",
    "\n",
    "        for u in [0]:\n",
    "            score_max = min(s - u - 2, 60)\n",
    "            prob_bust = 1 - prob_normalscore_0tosmaxsum_dic.get(score_max) - prob_doublescore_dic.get(s - u,\n",
    "                                                                                                      np.zeros(\n",
    "                                                                                                          num_aiming_location, ))  # (984,)\n",
    "            turn_to_thrownew = (\n",
    "                prob_grid_normalscore[:, 0].dot(1 + values[3][0])\n",
    "                + np.array(prob_grid_normalscore[:, 1:score_max + 1]).dot(\n",
    "                    1 + V[s - u - 1:s - u - score_max - 1:-1, 2, 0])\n",
    "                + prob_doublescore_dic.get(s - u, np.zeros(num_aiming_location, )) * 1\n",
    "                + prob_bust.dot(1 + values[3][0])\n",
    "            )\n",
    "            values[1][u] = np.min(turn_to_thrownew)\n",
    "            optimal_action_index[s, 0, u] = np.argmin(turn_to_thrownew)\n",
    "\n",
    "        jump_out_of_iter = True\n",
    "        for remaining_throws in [1, 2, 3]:\n",
    "            if not np.all(np.abs(values_old[remaining_throws] - values[remaining_throws]) < iter_error):\n",
    "                jump_out_of_iter = False\n",
    "                break\n",
    "        if not jump_out_of_iter:\n",
    "            values_old = copy.deepcopy(values)\n",
    "        else:\n",
    "            break\n",
    "\n",
    "    V[s, 2, 0] = values[3][0]\n",
    "    V[s, 1, :len(values[2])] = values[2]\n",
    "    V[s, 0, :len(values[1])] = values[1]\n",
    "    print(f\"\\rscore_state = {s} finished.\",end=\"\")"
   ],
   "metadata": {
    "collapsed": false
   },
   "id": "6957265fdd341d49"
  },
  {
   "cell_type": "code",
   "execution_count": 10,
   "outputs": [
    {
     "name": "stdout",
     "output_type": "stream",
     "text": [
      "load_pickle from ../../data_parameter/player_gaussin_fit/grid_v2/player7_gaussin_prob_grid_v2.pkl\n",
      "2\n",
      "3\n",
      "4\n",
      "5\n",
      "6\n",
      "7\n",
      "8\n",
      "9\n"
     ]
    }
   ],
   "source": [
    "\n",
    "def solve_dp_noturn_valueiteration(aiming_grid, prob_grid_normalscore, prob_grid_doublescore=None,prob_grid_bullscore=None, prob_grid_doublescore_dic=None):\n",
    "    ## aiming_grid\n",
    "    num_aiming_location = aiming_grid.shape[0]\n",
    "    prob_normalscore_1tosmax_dic = {}\n",
    "    prob_normalscore_1tosmaxsum_dic = {}\n",
    "    for score_max in range(0, 61):\n",
    "        score_max_plus1 = score_max + 1\n",
    "        prob_normalscore_1tosmax_dic[score_max] = np.array(prob_grid_normalscore[:, 0:score_max_plus1])\n",
    "        prob_normalscore_1tosmaxsum_dic[score_max] = prob_normalscore_1tosmax_dic[score_max].sum(axis=1)\n",
    "    if prob_grid_doublescore_dic is None:\n",
    "        prob_doublescore_dic = {}\n",
    "        for doublescore_index in range(20):\n",
    "            doublescore = 2 * (doublescore_index + 1)\n",
    "            prob_doublescore_dic[doublescore] = np.array(prob_grid_doublescore[:, doublescore_index])\n",
    "    else:\n",
    "        prob_doublescore_dic = prob_grid_doublescore_dic\n",
    "    prob_DB = np.array(prob_grid_bullscore[:, 1])\n",
    "\n",
    "    ##\n",
    "    optimal_value = np.zeros((502, 3, 121),dtype=np.float32)\n",
    "    optimal_action_index = np.zeros((502, 3, 121), dtype=np.float32)\n",
    "    optimal_action_index[0,:,:] = -1\n",
    "    optimal_action_index[1,:,:] = -1\n",
    "\n",
    "    iter_limit = 1000\n",
    "    iter_error = 0.0001\n",
    "\n",
    "    for score_state in range(2,10):\n",
    "    ## solve successively for s = 2,...,501\n",
    "        for iter_index in range(iter_limit):\n",
    "\n",
    "            # i=1\n",
    "            diff_1=0\n",
    "            for u in range(0, min(120, score_state - 2)+1):\n",
    "                score_max = min(score_state - u - 2, 60)\n",
    "                score_max_plus1 = score_max + 1\n",
    "                num_tothrow= prob_normalscore_1tosmax_dic[score_max].dot(optimal_value[score_state - u: score_state - u - score_max-1:-1, 2, 0])\n",
    "                num_tothrow +=prob_normalscore_1tosmaxsum_dic[score_max]\n",
    "                prob_bust = 1 - prob_normalscore_1tosmaxsum_dic[score_max]\n",
    "                if (score_state-u == fb.score_DB):\n",
    "                    num_tothrow=num_tothrow+prob_DB*1\n",
    "                    prob_bust -= prob_DB\n",
    "                elif (score_state-u <= 40 and (score_state-u) % 2 == 0):\n",
    "                    num_tothrow = num_tothrow+ prob_doublescore_dic[score_state-u] * 1\n",
    "                    prob_bust -= prob_doublescore_dic[score_state-u]\n",
    "                else:\n",
    "                    pass\n",
    "\n",
    "                num_tothrow_new=num_tothrow + prob_bust * (1+optimal_value[score_state,2,0])\n",
    "                num_tothrow_value_new=np.min(num_tothrow_new)\n",
    "                diff_1=np.abs(num_tothrow_value_new-optimal_value[score_state,0,u])\n",
    "                optimal_value[score_state, 0, u]=num_tothrow_value_new\n",
    "                optimal_action_index[score_state, 0, u] = num_tothrow_new.argmin()\n",
    "\n",
    "            #i=2\n",
    "            diff_2=0\n",
    "            for u in range(0, min(60, score_state - 2)+1):\n",
    "                score_max = min(score_state - u - 2, 60)\n",
    "                score_max_plus1 = score_max + 1\n",
    "                num_tothrow = prob_normalscore_1tosmax_dic[score_max].dot(optimal_value[score_state,0,u:u+score_max+1])\n",
    "                prob_bust = 1 - prob_normalscore_1tosmaxsum_dic[score_max]\n",
    "                if (score_state - u == fb.score_DB):\n",
    "                    num_tothrow = num_tothrow+ prob_DB * 1\n",
    "                    prob_bust -= prob_DB\n",
    "                elif (score_state - u <= 40 and (score_state - u) % 2 == 0):\n",
    "                    num_tothrow = num_tothrow+ prob_doublescore_dic[score_state-u] * 1\n",
    "                    prob_bust -= prob_doublescore_dic[score_state-u]\n",
    "                else:\n",
    "                    pass\n",
    "                num_tothrow_new = num_tothrow + prob_bust * (1 + optimal_value[score_state, 2, 0])\n",
    "                num_tothrow_value_new = np.min(num_tothrow_new)\n",
    "                diff_2 = np.abs(num_tothrow_value_new - optimal_value[score_state, 1,u])\n",
    "                optimal_value[score_state, 1, u] = num_tothrow_value_new\n",
    "                optimal_action_index[score_state, 1, u] = num_tothrow_new.argmin()\n",
    "\n",
    "            #i=3\n",
    "            u = 0\n",
    "            diff_3=0\n",
    "            score_max = min(score_state - 2, 60)\n",
    "            num_tothrow= prob_normalscore_1tosmax_dic[score_max].dot(optimal_value[score_state,1,0:score_max+1])\n",
    "            prob_bust = 1 - prob_normalscore_1tosmaxsum_dic[score_max]\n",
    "            if (score_state - u == fb.score_DB):\n",
    "                num_tothrow = num_tothrow+ prob_DB * 1\n",
    "                prob_bust -= prob_DB\n",
    "            elif (score_state - u <= 40 and score_state % 2 == 0):\n",
    "                num_tothrow= num_tothrow+ prob_doublescore_dic[score_state] * 1\n",
    "                prob_bust -= prob_doublescore_dic[score_state]\n",
    "            else:\n",
    "                pass\n",
    "            num_tothrow_new = num_tothrow + prob_bust * (1 + optimal_value[score_state, 2, 0])\n",
    "            num_tothrow_value_new = np.min(num_tothrow_new)\n",
    "            diff_3 = np.abs(num_tothrow_value_new - optimal_value[score_state, 2, u])\n",
    "            optimal_value[score_state, 2, u] = num_tothrow_value_new\n",
    "            optimal_action_index[score_state, 2, u] = num_tothrow_new.argmin()\n",
    "\n",
    "            if np.any([diff_1,diff_2,diff_3])<iter_error:\n",
    "                break\n",
    "        print(score_state)\n",
    "    return [optimal_value, optimal_action_index]\n",
    "\n",
    "\n",
    "playerID = 7\n",
    "name_pa = 'player{}'.format(playerID)\n",
    "[aiming_grid, prob_grid_normalscore, prob_grid_singlescore, prob_grid_doublescore, prob_grid_triplescore,\n",
    " prob_grid_bullscore] = function_get_aiming_grid.load_aiming_grid(name_pa)\n",
    "result = solve_dp_noturn_valueiteration(aiming_grid, prob_grid_normalscore, prob_grid_doublescore,prob_grid_bullscore)"
   ],
   "metadata": {
    "collapsed": false,
    "ExecuteTime": {
     "end_time": "2024-03-24T16:51:19.712240900Z",
     "start_time": "2024-03-24T16:51:16.953621900Z"
    }
   },
   "id": "cd05bb17a188ae02"
  },
  {
   "cell_type": "code",
   "execution_count": null,
   "outputs": [],
   "source": [],
   "metadata": {
    "collapsed": false
   },
   "id": "cc87c01417859f28"
  }
 ],
 "metadata": {
  "kernelspec": {
   "display_name": "Python 3",
   "language": "python",
   "name": "python3"
  },
  "language_info": {
   "codemirror_mode": {
    "name": "ipython",
    "version": 2
   },
   "file_extension": ".py",
   "mimetype": "text/x-python",
   "name": "python",
   "nbconvert_exporter": "python",
   "pygments_lexer": "ipython2",
   "version": "2.7.6"
  }
 },
 "nbformat": 4,
 "nbformat_minor": 5
}
