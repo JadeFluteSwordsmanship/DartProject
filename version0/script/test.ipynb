{
 "cells": [
  {
   "cell_type": "code",
   "execution_count": 1,
   "outputs": [
    {
     "name": "stdout",
     "output_type": "stream",
     "text": [
      "load_pickle from ../../data_parameter/player_gaussin_fit/grid_v2/player7_gaussin_prob_grid_v2.pkl\n"
     ]
    }
   ],
   "source": [
    "import os\n",
    "import sys\n",
    "import numpy as np\n",
    "import time\n",
    "\n",
    "import function_board as fb\n",
    "import function_tool as ft\n",
    "import function_get_aiming_grid\n",
    "#import function_solve_dp\n",
    "import function_solve_dp_demo as function_solve_dp\n",
    "name_pa = 'player7'\n",
    "[aiming_grid, prob_grid_normalscore, prob_grid_singlescore, prob_grid_doublescore, prob_grid_triplescore, prob_grid_bullscore] = function_get_aiming_grid.load_aiming_grid(name_pa)\n"
   ],
   "metadata": {
    "collapsed": false,
    "ExecuteTime": {
     "end_time": "2024-03-29T09:18:10.464716600Z",
     "start_time": "2024-03-29T09:18:10.354012100Z"
    }
   },
   "id": "bd09ed1fdf48964e"
  },
  {
   "cell_type": "code",
   "execution_count": 21,
   "outputs": [
    {
     "name": "stdout",
     "output_type": "stream",
     "text": [
      "The point (170, 170) is in the array.\n"
     ]
    }
   ],
   "source": [
    "point = (170,170)\n",
    "contains = False\n",
    "for row in aiming_grid:\n",
    "    if np.array_equal(point,row):\n",
    "        contains = True\n",
    "    \n",
    "if contains:\n",
    "    print(f\"The point {point} is in the array.\")\n",
    "else:\n",
    "    print(f\"The point {point} is not in the array.\")"
   ],
   "metadata": {
    "collapsed": false,
    "ExecuteTime": {
     "end_time": "2024-03-25T13:55:27.671770400Z",
     "start_time": "2024-03-25T13:55:27.658805900Z"
    }
   },
   "id": "922a8954376d9808"
  },
  {
   "cell_type": "code",
   "execution_count": 24,
   "outputs": [
    {
     "name": "stdout",
     "output_type": "stream",
     "text": [
      "Function return value: 499999500000\n"
     ]
    },
    {
     "ename": "TypeError",
     "evalue": "print_stats() got an unexpected keyword argument 'stream'",
     "output_type": "error",
     "traceback": [
      "\u001B[1;31m---------------------------------------------------------------------------\u001B[0m",
      "\u001B[1;31mTypeError\u001B[0m                                 Traceback (most recent call last)",
      "Cell \u001B[1;32mIn[24], line 31\u001B[0m\n\u001B[0;32m     29\u001B[0m \u001B[38;5;28mprint\u001B[39m(\u001B[38;5;124mf\u001B[39m\u001B[38;5;124m\"\u001B[39m\u001B[38;5;124mFunction return value: \u001B[39m\u001B[38;5;132;01m{\u001B[39;00mreturn_value\u001B[38;5;132;01m}\u001B[39;00m\u001B[38;5;124m\"\u001B[39m)\n\u001B[0;32m     30\u001B[0m \u001B[38;5;28;01mwith\u001B[39;00m \u001B[38;5;28mopen\u001B[39m(\u001B[38;5;124m'\u001B[39m\u001B[38;5;124mprofile.log\u001B[39m\u001B[38;5;124m'\u001B[39m, \u001B[38;5;124m'\u001B[39m\u001B[38;5;124mw\u001B[39m\u001B[38;5;124m'\u001B[39m) \u001B[38;5;28;01mas\u001B[39;00m f:\n\u001B[1;32m---> 31\u001B[0m     \u001B[43mps\u001B[49m\u001B[38;5;241;43m.\u001B[39;49m\u001B[43mprint_stats\u001B[49m\u001B[43m(\u001B[49m\u001B[43mstream\u001B[49m\u001B[38;5;241;43m=\u001B[39;49m\u001B[43mf\u001B[49m\u001B[43m)\u001B[49m\n",
      "\u001B[1;31mTypeError\u001B[0m: print_stats() got an unexpected keyword argument 'stream'"
     ]
    }
   ],
   "source": [
    "import cProfile\n",
    "import pstats\n",
    "import io\n",
    "\n",
    "# 假设这是你的函数，它接受一个参数\n",
    "def my_function(arg1):\n",
    "    result = 0\n",
    "    for i in range(arg1):\n",
    "        result += i\n",
    "    return result\n",
    "\n",
    "# 使用cProfile进行性能分析\n",
    "pr = cProfile.Profile()\n",
    "pr.enable()\n",
    "\n",
    "# 调用函数并获取返回值\n",
    "return_value = my_function(1000000)\n",
    "\n",
    "pr.disable()\n",
    "\n",
    "# 创建一个Stats对象\n",
    "s = io.StringIO()\n",
    "ps = pstats.Stats(pr, stream=s).sort_stats('cumtime')\n",
    "\n",
    "# 打印出性能分析结果\n",
    "ps.print_stats()\n",
    "\n",
    "# 打印返回值\n",
    "print(f\"Function return value: {return_value}\")\n",
    "with open('profile.log', 'w') as f:\n",
    "    ps.print_stats(stream=f)"
   ],
   "metadata": {
    "collapsed": false,
    "ExecuteTime": {
     "end_time": "2024-03-25T19:11:23.700700800Z",
     "start_time": "2024-03-25T19:11:23.475305300Z"
    }
   },
   "id": "9d07c3f209b9e803"
  },
  {
   "cell_type": "code",
   "execution_count": 2,
   "outputs": [],
   "source": [
    "prob_doublescore_dic = {}\n",
    "for doublescore_index in range(20):\n",
    "    doublescore = 2 * (doublescore_index + 1)\n",
    "    prob_doublescore_dic[doublescore] = np.array(prob_grid_doublescore[:, doublescore_index])"
   ],
   "metadata": {
    "collapsed": false,
    "ExecuteTime": {
     "end_time": "2024-03-29T09:18:38.851919300Z",
     "start_time": "2024-03-29T09:18:38.840947900Z"
    }
   },
   "id": "757e626b0355a50d"
  },
  {
   "cell_type": "code",
   "execution_count": 3,
   "outputs": [],
   "source": [
    "prob_doublescore_dic[fb.score_DB] = np.array(prob_grid_bullscore[:, 1])"
   ],
   "metadata": {
    "collapsed": false,
    "ExecuteTime": {
     "end_time": "2024-03-29T09:18:40.102575400Z",
     "start_time": "2024-03-29T09:18:40.093600200Z"
    }
   },
   "id": "5d633fe4922d0ada"
  },
  {
   "cell_type": "code",
   "execution_count": 11,
   "outputs": [
    {
     "data": {
      "text/plain": "4.6080371822555395e-129"
     },
     "execution_count": 11,
     "metadata": {},
     "output_type": "execute_result"
    }
   ],
   "source": [
    "(prob_doublescore_dic.get(8,np.zeros(984, ))[2] * 3.0)"
   ],
   "metadata": {
    "collapsed": false,
    "ExecuteTime": {
     "end_time": "2024-03-29T14:36:26.510996400Z",
     "start_time": "2024-03-29T14:36:26.501023600Z"
    }
   },
   "id": "4db3e26e6f9b25c3"
  },
  {
   "cell_type": "code",
   "execution_count": 13,
   "outputs": [],
   "source": [
    "num_aiming_location = aiming_grid.shape[0]\n",
    "prob_normalscore_0tosmax_dic = {}\n",
    "prob_normalscore_0tosmaxsum_dic = {}\n",
    "for score_max in range(0, 61):\n",
    "    score_max_plus1 = score_max + 1\n",
    "    prob_normalscore_0tosmax_dic[score_max] = np.array(prob_grid_normalscore[:, 0:score_max_plus1])\n",
    "    prob_normalscore_0tosmaxsum_dic[score_max] = prob_normalscore_0tosmax_dic[score_max].sum(axis=1)\n",
    "\n",
    "prob_doublescore_dic = {}\n",
    "for doublescore_index in range(20):\n",
    "    doublescore = 2 * (doublescore_index + 1)\n",
    "    prob_doublescore_dic[doublescore] = np.array(prob_grid_doublescore[:, doublescore_index])\n",
    "prob_doublescore_dic[fb.score_DB] = np.array(prob_grid_bullscore[:, 1])"
   ],
   "metadata": {
    "collapsed": false,
    "ExecuteTime": {
     "end_time": "2024-03-29T14:55:12.560056700Z",
     "start_time": "2024-03-29T14:55:12.546093Z"
    }
   },
   "id": "de52fa504121d696"
  },
  {
   "cell_type": "code",
   "execution_count": 14,
   "outputs": [
    {
     "data": {
      "text/plain": "False"
     },
     "execution_count": 14,
     "metadata": {},
     "output_type": "execute_result"
    }
   ],
   "source": [
    "Mu = np.full((502, 4, 121), fill_value=41, dtype=np.int16)\n",
    "optimal_action_index = np.full((502, 3, 121), fill_value=-1, dtype=np.int16)\n",
    "np.all(Mu[:, 1:, :] == optimal_action_index)"
   ],
   "metadata": {
    "collapsed": false,
    "ExecuteTime": {
     "end_time": "2024-03-29T18:25:04.524660100Z",
     "start_time": "2024-03-29T18:25:04.492745800Z"
    }
   },
   "id": "e477508a6c93ae0"
  },
  {
   "cell_type": "code",
   "execution_count": null,
   "outputs": [],
   "source": [],
   "metadata": {
    "collapsed": false
   },
   "id": "1c94232041b9208b"
  }
 ],
 "metadata": {
  "kernelspec": {
   "display_name": "Python 3",
   "language": "python",
   "name": "python3"
  },
  "language_info": {
   "codemirror_mode": {
    "name": "ipython",
    "version": 2
   },
   "file_extension": ".py",
   "mimetype": "text/x-python",
   "name": "python",
   "nbconvert_exporter": "python",
   "pygments_lexer": "ipython2",
   "version": "2.7.6"
  }
 },
 "nbformat": 4,
 "nbformat_minor": 5
}
