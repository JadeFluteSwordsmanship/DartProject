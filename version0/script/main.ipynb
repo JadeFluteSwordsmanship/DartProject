{
 "cells": [
  {
   "cell_type": "code",
   "execution_count": null,
   "id": "initial_id",
   "metadata": {
    "collapsed": true
   },
   "outputs": [],
   "source": [
    "import os\n",
    "import sys\n",
    "import numpy as np\n",
    "import time\n",
    "import argparse\n",
    "import logging\n",
    "import function_board as fb\n",
    "import function_tool as ft\n",
    "import cProfile\n",
    "import function_get_aiming_grid\n",
    "from function_solve_dp_withturn import solve_dp_withturn_valueiteration, setup_logging, log_system_info, \\\n",
    "    solve_dp_withturn_policyiteration, solve_dp_withturn_valueiteration_gpu\n",
    "np.set_printoptions(precision=4)\n",
    "np.set_printoptions(linewidth=300)\n",
    "np.set_printoptions(threshold=300)\n",
    "function_map = {\n",
    "    ('value', True): solve_dp_withturn_valueiteration_gpu,\n",
    "    ('value', False): solve_dp_withturn_valueiteration,\n",
    "    ('policy', True): solve_dp_withturn_policyiteration,\n",
    "    ('policy', False): solve_dp_withturn_policyiteration,\n",
    "}\n",
    "result_dir = '../HW_result'\n",
    "if not os.path.isdir(result_dir):\n",
    "    os.makedirs(result_dir)"
   ]
  },
  {
   "cell_type": "code",
   "execution_count": null,
   "outputs": [],
   "source": [
    "iter_limit = 1000\n",
    "iter_error = 1e-4\n",
    "playerID_list = [7,11]"
   ],
   "metadata": {
    "collapsed": false
   },
   "id": "ab0a6a6a49013575"
  },
  {
   "cell_type": "markdown",
   "source": [
    "# ValueIteration"
   ],
   "metadata": {
    "collapsed": false
   },
   "id": "b992365e3a1c4c8c"
  },
  {
   "cell_type": "code",
   "execution_count": null,
   "outputs": [],
   "source": [
    "method = 'value'\n",
    "gpu = False\n",
    "for playerID in playerID_list:\n",
    "    logger = setup_logging(method, result_dir, playerID)\n",
    "    log_system_info(logger)\n",
    "    name_pa = 'player{}'.format(playerID)\n",
    "    [aiming_grid, prob_grid_normalscore, prob_grid_singlescore, prob_grid_doublescore, prob_grid_triplescore,\n",
    "     prob_grid_bullscore] = function_get_aiming_grid.load_aiming_grid(name_pa)\n",
    "\n",
    "    t1 = time.time()\n",
    "    V, optimal_action_index = function_map[(method, gpu)](aiming_grid, prob_grid_normalscore,\n",
    "                                                          prob_grid_doublescore,\n",
    "                                                          prob_grid_bullscore, iter_limit=iter_limit,\n",
    "                                                          iter_error=iter_error, logger=logger)\n",
    "    t2 = time.time()\n",
    "\n",
    "    print(f'\\nsolve dp_withturn in {t2 - t1} seconds for player{playerID}')\n",
    "    np.save(os.path.join(result_dir, f'player{playerID}_valueiter_V.npy'), V)\n",
    "    np.save(os.path.join(result_dir, f'player{playerID}_valueiter_Mu.npy'), optimal_action_index)\n",
    "    logger.info(f'Saved V matrix and optimal action index for player {playerID}')\n",
    "    logger.info(f'Total time for value iteration: {t2 - t1:.4f} seconds.')\n",
    "    print('\\n')"
   ],
   "metadata": {
    "collapsed": false
   },
   "id": "d0e625c8c740c495"
  },
  {
   "cell_type": "markdown",
   "source": [
    "# PolicyIteration"
   ],
   "metadata": {
    "collapsed": false
   },
   "id": "a4896adee25d732e"
  },
  {
   "cell_type": "code",
   "execution_count": null,
   "outputs": [],
   "source": [
    "method = 'policy'\n",
    "for playerID in playerID_list:\n",
    "    logger = setup_logging(method, result_dir, playerID)\n",
    "    log_system_info(logger)\n",
    "    name_pa = 'player{}'.format(playerID)\n",
    "    [aiming_grid, prob_grid_normalscore, prob_grid_singlescore, prob_grid_doublescore, prob_grid_triplescore,\n",
    "     prob_grid_bullscore] = function_get_aiming_grid.load_aiming_grid(name_pa)\n",
    "\n",
    "    t1 = time.time()\n",
    "    if method == 'value':\n",
    "        V, optimal_action_index = solve_dp_withturn_valueiteration(aiming_grid, prob_grid_normalscore,\n",
    "                                                                   prob_grid_doublescore,\n",
    "                                                                   prob_grid_bullscore, iter_limit=iter_limit,\n",
    "                                                                   iter_error=iter_error, logger=logger)\n",
    "    elif method == 'policy':\n",
    "        V, optimal_action_index = solve_dp_withturn_policyiteration(aiming_grid, prob_grid_normalscore,\n",
    "                                                                    prob_grid_doublescore,\n",
    "                                                                    prob_grid_bullscore, iter_limit=iter_limit,\n",
    "                                                                    iter_error=iter_error, logger=logger)\n",
    "    else:\n",
    "        V, optimal_action_index = np.ndarray()\n",
    "    t2 = time.time()\n",
    "\n",
    "    print(f'\\nsolve dp_withturn in {t2 - t1} seconds for player{playerID}')\n",
    "    np.save(os.path.join(result_dir, f'player{playerID}_valueiter_V.npy'), V)\n",
    "    np.save(os.path.join(result_dir, f'player{playerID}_valueiter_Mu.npy'), optimal_action_index)\n",
    "    logger.info(f'Saved V matrix and optimal action index for player {playerID}')\n",
    "    logger.info(f'Total time for value iteration: {t2 - t1:.4f} seconds.')\n",
    "    print('\\n')"
   ],
   "metadata": {
    "collapsed": false
   },
   "id": "7d4aa3056080023f"
  }
 ],
 "metadata": {
  "kernelspec": {
   "display_name": "Python 3",
   "language": "python",
   "name": "python3"
  },
  "language_info": {
   "codemirror_mode": {
    "name": "ipython",
    "version": 2
   },
   "file_extension": ".py",
   "mimetype": "text/x-python",
   "name": "python",
   "nbconvert_exporter": "python",
   "pygments_lexer": "ipython2",
   "version": "2.7.6"
  }
 },
 "nbformat": 4,
 "nbformat_minor": 5
}
